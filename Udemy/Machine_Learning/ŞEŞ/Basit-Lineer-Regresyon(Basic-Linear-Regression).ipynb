{
 "cells": [
  {
   "cell_type": "markdown",
   "metadata": {},
   "source": [
    "  # Lineer Regresyon\n",
    "**Bir kişinin yaşı, boyu, önümüzdeki senenin dolar kuru, seneye bilgisayar fiyatları vb. numerik verileri bulmaya tahmin; \n",
    "    bir kişinin cinsiyeti, arabasının rengi vb. kategorik verilerin bulunmasına ise sınıflandırma denir.**\n",
    "Öngörü ile tahminin farkı: tahmin geçmiş verilerin tahminini de içerir ancak öngörü, daha önce hiç ulaşamadığımız\n",
    "    verilerin tahminini içeriyor."
   ]
  },
  {
   "cell_type": "code",
   "execution_count": 136,
   "metadata": {},
   "outputs": [],
   "source": [
    "import pandas as pd\n",
    "from sklearn.model_selection import train_test_split\n",
    "from sklearn.preprocessing import StandardScaler\n",
    "from sklearn.linear_model import LinearRegression\n",
    "import matplotlib.pyplot as plt\n",
    "import numpy as np"
   ]
  },
  {
   "cell_type": "code",
   "execution_count": 137,
   "metadata": {},
   "outputs": [],
   "source": [
    "data = pd.read_csv(\"aylaragoresatis.csv\")"
   ]
  },
  {
   "cell_type": "markdown",
   "metadata": {},
   "source": [
    "**Basit Doğrusal Regresyon = y = ax + b(basit doğru formülü) a=eğim, b=doğrunun ne kadar kaydırılacağı...**\n",
    "\n",
    "**Verilen verilere en yakın doğruyu çizmek ve hatayı minimuma indirmek bizim amacımız(hata = değer ile doğru arasındaki mesafe)**\n",
    "\n",
    "$y=a*x+b$"
   ]
  },
  {
   "cell_type": "code",
   "execution_count": 138,
   "metadata": {},
   "outputs": [
    {
     "name": "stdout",
     "output_type": "stream",
     "text": [
      "Train\n",
      "     Aylar\n",
      "5      19\n",
      "16     32\n",
      "8      20\n",
      "14     29\n",
      "23     50\n",
      "20     42\n",
      "1      10\n",
      "29     65\n",
      "6      19\n",
      "4      14\n",
      "18     37\n",
      "19     37\n",
      "9      24\n",
      "7      20\n",
      "25     55\n",
      "3      13\n",
      "0       8\n",
      "21     44\n",
      "15     31\n",
      "12     25\n",
      "\n",
      "\n",
      "     Satislar\n",
      "5    28321.0\n",
      "16   33014.5\n",
      "8    32222.5\n",
      "14   30555.5\n",
      "23   56906.0\n",
      "20   45869.0\n",
      "1    23102.5\n",
      "29   60936.0\n",
      "6    30075.0\n",
      "4    19945.5\n",
      "18   40681.5\n",
      "19   46970.0\n",
      "9    28594.5\n",
      "7    27222.5\n",
      "25   52791.0\n",
      "3    21762.5\n",
      "0    19671.5\n",
      "21   49136.5\n",
      "15   33969.0\n",
      "12   28478.5\n",
      "\n",
      "\n",
      "Test\n",
      "     Aylar\n",
      "2      11\n",
      "28     64\n",
      "13     26\n",
      "10     25\n",
      "26     59\n",
      "24     54\n",
      "27     59\n",
      "11     25\n",
      "17     34\n",
      "22     49\n",
      "\n",
      "\n",
      "     Satislar\n",
      "2    18865.5\n",
      "28   61195.5\n",
      "13   28540.5\n",
      "10   31609.0\n",
      "26   58484.5\n",
      "24   54715.5\n",
      "27   56317.5\n",
      "11   27897.0\n",
      "17   41544.0\n",
      "22   50651.0\n"
     ]
    }
   ],
   "source": [
    "aylar = data.iloc[:, 0:1]#bağımsız değişken\n",
    "satislar = data.iloc[:,1:2]#bağımlı değişken\n",
    "\n",
    "#x'ler ve y'lerden rastgele seçip train ve test kümesi olmak üzere ikiye ayırdık, verileri böldük \n",
    "x_train, x_test, y_train, y_test = train_test_split(aylar, satislar, test_size=0.33, random_state=0)\n",
    "print(\"Train\\n\", x_train)\n",
    "print(\"\\n\\n\", y_train)\n",
    "print(\"\\n\\nTest\\n\", x_test)\n",
    "print(\"\\n\\n\", y_test)"
   ]
  },
  {
   "cell_type": "code",
   "execution_count": 139,
   "metadata": {},
   "outputs": [
    {
     "name": "stdout",
     "output_type": "stream",
     "text": [
      "x_train standartlaştırma\n",
      " [[-0.70368853]\n",
      " [ 0.15126015]\n",
      " [-0.63792324]\n",
      " [-0.0460357 ]\n",
      " [ 1.33503524]\n",
      " [ 0.80891298]\n",
      " [-1.29557607]\n",
      " [ 2.32151449]\n",
      " [-0.70368853]\n",
      " [-1.03251494]\n",
      " [ 0.48008657]\n",
      " [ 0.48008657]\n",
      " [-0.37486211]\n",
      " [-0.63792324]\n",
      " [ 1.66386166]\n",
      " [-1.09828023]\n",
      " [-1.42710664]\n",
      " [ 0.94044355]\n",
      " [ 0.08549487]\n",
      " [-0.30909683]]\n",
      "\n",
      "\n",
      "x_test standartlaştırma\n",
      " [[-1.68268756]\n",
      " [ 1.33023274]\n",
      " [-0.82997427]\n",
      " [-0.88682182]\n",
      " [ 1.04599497]\n",
      " [ 0.76175721]\n",
      " [ 1.04599497]\n",
      " [-0.88682182]\n",
      " [-0.37519385]\n",
      " [ 0.47751944]]\n",
      "\n",
      "\n",
      " [[-1.66597621]\n",
      " [ 1.25819492]\n",
      " [-0.99762385]\n",
      " [-0.7856508 ]\n",
      " [ 1.0709181 ]\n",
      " [ 0.81055426]\n",
      " [ 0.92122098]\n",
      " [-1.04207705]\n",
      " [-0.09933754]\n",
      " [ 0.52977719]]\n",
      "\n",
      "\n",
      " [[-0.58893482]\n",
      " [-0.20450235]\n",
      " [-0.26937302]\n",
      " [-0.40591269]\n",
      " [ 1.75238875]\n",
      " [ 0.84837657]\n",
      " [-1.01636869]\n",
      " [ 2.08247565]\n",
      " [-0.44526921]\n",
      " [-1.27495041]\n",
      " [ 0.42348183]\n",
      " [ 0.93855664]\n",
      " [-0.56653314]\n",
      " [-0.67891012]\n",
      " [ 1.41533972]\n",
      " [-1.12612463]\n",
      " [-1.29739304]\n",
      " [ 1.11600906]\n",
      " [-0.12632172]\n",
      " [-0.5760344 ]]\n"
     ]
    }
   ],
   "source": [
    "#x_traini ve x_test'i standartlaştırdık. Yani kullanabileceğimiz, birbirlerine yakın veriler haline getirdik.\n",
    "sc = StandardScaler()\n",
    "X_train = sc.fit_transform(x_train)\n",
    "X_test = sc.fit_transform(x_test)\n",
    "Y_train = sc.fit_transform(y_train)\n",
    "Y_test = sc.fit_transform(y_test)\n",
    "print(\"x_train standartlaştırma\\n\", X_train)\n",
    "print(\"\\n\\nx_test standartlaştırma\\n\", X_test)\n",
    "print(\"\\n\\n\", Y_test)\n",
    "print(\"\\n\\n\", Y_train)"
   ]
  },
  {
   "cell_type": "markdown",
   "metadata": {},
   "source": [
    "# Basit Doğrusal Regresyon Model İnşası\n",
    "**şu an xtrainlerden ytrainleri seçmeye çalışacağız. Yani aylarla satışları karşılaştıracak ve doğrusal bir bağlantı bulmaya çalışacak**\n",
    "**Amacımız ise x_testlerden ayları al ve o ayda kaç satış olduğunu tahmin etmeye çalış. y_testlere ne kadar yakın karşılaştır.**"
   ]
  },
  {
   "cell_type": "code",
   "execution_count": 140,
   "metadata": {},
   "outputs": [
    {
     "data": {
      "text/plain": [
       "LinearRegression()"
      ]
     },
     "execution_count": 140,
     "metadata": {},
     "output_type": "execute_result"
    }
   ],
   "source": [
    "lr = LinearRegression()\n",
    "lr.fit(x_train, y_train)#bu değerleri alarak bir model inşa et\n"
   ]
  },
  {
   "cell_type": "markdown",
   "metadata": {},
   "source": [
    "                                            **Uygulama**\n",
    "                                            \n",
    "**y_test'i görmeden üst blokta yaptığımız fit sayesinde x_test'lere karşılık gelen y_test değerlerini bulmaya çalışıyoruz.**\n",
    "**Tahminleri Scaling olarak da görebiliriz(X_test, Y_test olarak) ancak farkı daha rahat anlamamız için x_test ve y_test'e bakıyoruz**"
   ]
  },
  {
   "cell_type": "code",
   "execution_count": 141,
   "metadata": {},
   "outputs": [
    {
     "name": "stdout",
     "output_type": "stream",
     "text": [
      "[[20991.93663769]\n",
      " [62142.93172873]\n",
      " [32638.44468232]\n",
      " [31862.01081268]\n",
      " [58260.76238052]\n",
      " [54378.59303231]\n",
      " [58260.76238052]\n",
      " [31862.01081268]\n",
      " [38849.91563946]\n",
      " [50496.4236841 ]]\n",
      "\n",
      "     Satislar\n",
      "2    18865.5\n",
      "28   61195.5\n",
      "13   28540.5\n",
      "10   31609.0\n",
      "26   58484.5\n",
      "24   54715.5\n",
      "27   56317.5\n",
      "11   27897.0\n",
      "17   41544.0\n",
      "22   50651.0\n"
     ]
    }
   ],
   "source": [
    "predict = lr.predict(x_test)\n",
    "print(predict)\n",
    "print(\"\\n\", y_test)"
   ]
  },
  {
   "cell_type": "markdown",
   "metadata": {},
   "source": [
    "# Görselleştirme\n",
    "**Verilerde sürekli artan bir izlenim alamayız. Bazen artıyor bazen de azalıyor!!**"
   ]
  },
  {
   "cell_type": "code",
   "execution_count": 142,
   "metadata": {},
   "outputs": [
    {
     "data": {
      "text/plain": [
       "Text(0, 0.5, 'Satışlar')"
      ]
     },
     "execution_count": 142,
     "metadata": {},
     "output_type": "execute_result"
    },
    {
     "data": {
      "image/png": "[encoded data removed]",
      "text/plain": [
       "<Figure size 432x288 with 1 Axes>"
      ]
     },
     "metadata": {
      "needs_background": "light"
     },
     "output_type": "display_data"
    }
   ],
   "source": [
    "#bunu yapmamamız gerekir. Çünkü çok saçma bir çıktı verir. Önce düzeltmeliyiz.\n",
    "#nedeni ise biz bu verileri random ekledik(train verilerini) bu yüzden veriler sıralı değil!\n",
    "#plt.plot(x_train, y_train) \n",
    "#sort_index ile değerleri indexlerine göre sıralayabiliriz.\n",
    "x_test = x_test.sort_index()\n",
    "y_test = y_test.sort_index()\n",
    "plt.plot(x_test, y_test)\n",
    "#burada doğru çizimi yapıyoruz, xtest'in tahminine göre. Ancak zıplamalar olsa bile(ve bir bu değerler sıralamamıza rağmen)\n",
    "#doğru şekline çizim yapıyor!\n",
    "#Bu sayede aradaki hata payını görebiliriz.\n",
    "plt.plot(x_test, lr.predict(x_test))\n",
    "plt.title(\"Aylara Göre Satış\")\n",
    "plt.xlabel(\"Aylar\")\n",
    "plt.ylabel(\"Satışlar\")\n"
   ]
  }
 ],
 "metadata": {
  "kernelspec": {
   "display_name": "Python 3",
   "language": "python",
   "name": "python3"
  },
  "language_info": {
   "codemirror_mode": {
    "name": "ipython",
    "version": 3
   },
   "file_extension": ".py",
   "mimetype": "text/x-python",
   "name": "python",
   "nbconvert_exporter": "python",
   "pygments_lexer": "ipython3",
   "version": "3.8.3"
  }
 },
 "nbformat": 4,
 "nbformat_minor": 4
}
