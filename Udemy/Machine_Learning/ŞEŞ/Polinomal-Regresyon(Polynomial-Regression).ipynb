{
 "cells": [
  {
   "cell_type": "markdown",
   "metadata": {},
   "source": [
    "# Polinomal Regresyon(Polynomial Regression)\n",
    "\n"
   ]
  },
  {
   "cell_type": "markdown",
   "metadata": {},
   "source": [
    "**Formül =** $f( x ) = c0 + c1*x + c2*x^2 + cn*x^n$"
   ]
  },
  {
   "cell_type": "markdown",
   "metadata": {},
   "source": [
    "**Bu regresyonla, doğrusal regresyondan farklı olarak kıvrımlı bir yapı elde edebiliyoruz. Amacımız daha veriye yakın çizgiler elde edebilmek!**\n"
   ]
  },
  {
   "cell_type": "code",
   "execution_count": 44,
   "metadata": {},
   "outputs": [],
   "source": [
    "import pandas as pd\n",
    "import numpy as np\n",
    "import matplotlib.pyplot as plt\n",
    "from sklearn import preprocessing\n",
    "from sklearn.linear_model import LinearRegression"
   ]
  },
  {
   "cell_type": "code",
   "execution_count": 45,
   "metadata": {},
   "outputs": [
    {
     "data": {
      "text/html": [
       "<div>\n",
       "<style scoped>\n",
       "    .dataframe tbody tr th:only-of-type {\n",
       "        vertical-align: middle;\n",
       "    }\n",
       "\n",
       "    .dataframe tbody tr th {\n",
       "        vertical-align: top;\n",
       "    }\n",
       "\n",
       "    .dataframe thead th {\n",
       "        text-align: right;\n",
       "    }\n",
       "</style>\n",
       "<table border=\"1\" class=\"dataframe\">\n",
       "  <thead>\n",
       "    <tr style=\"text-align: right;\">\n",
       "      <th></th>\n",
       "      <th>unvan</th>\n",
       "      <th>Egitim Seviyesi</th>\n",
       "      <th>maas</th>\n",
       "    </tr>\n",
       "  </thead>\n",
       "  <tbody>\n",
       "    <tr>\n",
       "      <th>0</th>\n",
       "      <td>Cayci</td>\n",
       "      <td>1</td>\n",
       "      <td>2250</td>\n",
       "    </tr>\n",
       "    <tr>\n",
       "      <th>1</th>\n",
       "      <td>Sekreter</td>\n",
       "      <td>2</td>\n",
       "      <td>2500</td>\n",
       "    </tr>\n",
       "    <tr>\n",
       "      <th>2</th>\n",
       "      <td>Uzman Yardimcisi</td>\n",
       "      <td>3</td>\n",
       "      <td>3000</td>\n",
       "    </tr>\n",
       "    <tr>\n",
       "      <th>3</th>\n",
       "      <td>Uzman</td>\n",
       "      <td>4</td>\n",
       "      <td>4000</td>\n",
       "    </tr>\n",
       "    <tr>\n",
       "      <th>4</th>\n",
       "      <td>Proje Yoneticisi</td>\n",
       "      <td>5</td>\n",
       "      <td>5500</td>\n",
       "    </tr>\n",
       "    <tr>\n",
       "      <th>5</th>\n",
       "      <td>Sef</td>\n",
       "      <td>6</td>\n",
       "      <td>7500</td>\n",
       "    </tr>\n",
       "    <tr>\n",
       "      <th>6</th>\n",
       "      <td>Mudur</td>\n",
       "      <td>7</td>\n",
       "      <td>10000</td>\n",
       "    </tr>\n",
       "    <tr>\n",
       "      <th>7</th>\n",
       "      <td>Direktor</td>\n",
       "      <td>8</td>\n",
       "      <td>15000</td>\n",
       "    </tr>\n",
       "    <tr>\n",
       "      <th>8</th>\n",
       "      <td>C-level</td>\n",
       "      <td>9</td>\n",
       "      <td>25000</td>\n",
       "    </tr>\n",
       "    <tr>\n",
       "      <th>9</th>\n",
       "      <td>CEO</td>\n",
       "      <td>10</td>\n",
       "      <td>50000</td>\n",
       "    </tr>\n",
       "  </tbody>\n",
       "</table>\n",
       "</div>"
      ],
      "text/plain": [
       "              unvan  Egitim Seviyesi   maas\n",
       "0             Cayci                1   2250\n",
       "1          Sekreter                2   2500\n",
       "2  Uzman Yardimcisi                3   3000\n",
       "3             Uzman                4   4000\n",
       "4  Proje Yoneticisi                5   5500\n",
       "5               Sef                6   7500\n",
       "6             Mudur                7  10000\n",
       "7          Direktor                8  15000\n",
       "8           C-level                9  25000\n",
       "9               CEO               10  50000"
      ]
     },
     "execution_count": 45,
     "metadata": {},
     "output_type": "execute_result"
    }
   ],
   "source": [
    "data = pd.read_csv(\"maaslar.csv\")\n",
    "data"
   ]
  },
  {
   "cell_type": "code",
   "execution_count": 46,
   "metadata": {},
   "outputs": [],
   "source": [
    "x = data.iloc[:, 1:2]#eğitim seviyesi\n",
    "y = data.iloc[:, -1:]#maaş"
   ]
  },
  {
   "cell_type": "code",
   "execution_count": 47,
   "metadata": {},
   "outputs": [
    {
     "data": {
      "text/plain": [
       "[<matplotlib.lines.Line2D at 0x180940f30a0>]"
      ]
     },
     "execution_count": 47,
     "metadata": {},
     "output_type": "execute_result"
    },
    {
     "data": {
      "image/png": "[encoded data removed]",
      "text/plain": [
       "<Figure size 432x288 with 1 Axes>"
      ]
     },
     "metadata": {
      "needs_background": "light"
     },
     "output_type": "display_data"
    }
   ],
   "source": [
    "#Öncelikle Lineer Regresyona bakalım(baya hatalı)\n",
    "lr = LinearRegression()\n",
    "lr.fit(x, y)\n",
    "plt.scatter(x, y, color='red')\n",
    "plt.plot(x, lr.predict(x))"
   ]
  },
  {
   "cell_type": "markdown",
   "metadata": {},
   "source": [
    "**Kısaca yaptığımız şey = x değerlerinin üslerini alarak x^2, x^3 gibi değerleri elde ediyoruz ve a*x + b*x1 + c*x2... haline getirerek lineer denklem haline getiriyoruz!!!**\n",
    "\n",
    "**x değerlerine 0-10 dersek: a + b*1 + c*4 + d*9 + .... + n*100 olur!!***"
   ]
  },
  {
   "cell_type": "code",
   "execution_count": 57,
   "metadata": {},
   "outputs": [
    {
     "name": "stdout",
     "output_type": "stream",
     "text": [
      "[[  1.   1.   1.]\n",
      " [  1.   2.   4.]\n",
      " [  1.   3.   9.]\n",
      " [  1.   4.  16.]\n",
      " [  1.   5.  25.]\n",
      " [  1.   6.  36.]\n",
      " [  1.   7.  49.]\n",
      " [  1.   8.  64.]\n",
      " [  1.   9.  81.]\n",
      " [  1.  10. 100.]]\n"
     ]
    },
    {
     "data": {
      "text/plain": [
       "[<matplotlib.lines.Line2D at 0x180959dfa00>]"
      ]
     },
     "execution_count": 57,
     "metadata": {},
     "output_type": "execute_result"
    },
    {
     "data": {
      "image/png": "[encoded data removed]",
      "text/plain": [
       "<Figure size 432x288 with 1 Axes>"
      ]
     },
     "metadata": {
      "needs_background": "light"
     },
     "output_type": "display_data"
    }
   ],
   "source": [
    "#Polinomal Regresyona Bakalım\n",
    "lr2= LinearRegression()\n",
    "pr = preprocessing.PolynomialFeatures(degree=2)#2.dereceden oluştur\n",
    "#şu an x değerlerini polinomal haline getiriyoruz(yani x, x^2, x^3... x^n'e kadar giden değerler bulunuyor)\n",
    "x_poly = pr.fit_transform(x)\n",
    "print(x_poly)\n",
    "#şu an 3 kolonun çarpanlarını öğrenen bir lineer sisteme dönüşecek\n",
    "lr2.fit(x_poly, y)\n",
    "plt.scatter(x, y, color='red')#noktaların dağılımı\n",
    "#burada bize lineer regresyon grafiği çizeceksin ama her bir x değeri için bize o x değerinin polinomal dönüşümü lazım!!\n",
    "plt.plot(x, lr2.predict(pr.fit_transform(x)))#2.dereceden polinom çizimi//pr.fit_transform yerine x_poly de yazılabilir\n"
   ]
  },
  {
   "cell_type": "code",
   "execution_count": 58,
   "metadata": {},
   "outputs": [
    {
     "data": {
      "text/plain": [
       "[<matplotlib.lines.Line2D at 0x180926908b0>]"
      ]
     },
     "execution_count": 58,
     "metadata": {},
     "output_type": "execute_result"
    },
    {
     "data": {
      "image/png": "[encoded data removed]",
      "text/plain": [
       "<Figure size 432x288 with 1 Axes>"
      ]
     },
     "metadata": {
      "needs_background": "light"
     },
     "output_type": "display_data"
    }
   ],
   "source": [
    "#aynı polinomu 4. dereceden oluşturuyoruz\n",
    "#polinom derecesi arttıkça başarı oranı artıyor\n",
    "pr = preprocessing.PolynomialFeatures(degree=4)\n",
    "x_poly = pr.fit_transform(x)\n",
    "\n",
    "lr2.fit(x_poly, y)\n",
    "plt.scatter(x, y, color='red')\n",
    "plt.plot(x, lr2.predict(pr.fit_transform(x)))"
   ]
  },
  {
   "cell_type": "code",
   "execution_count": 59,
   "metadata": {},
   "outputs": [
    {
     "name": "stdout",
     "output_type": "stream",
     "text": [
      "[[34716.66666667]]\n",
      "[[16923.33333333]]\n"
     ]
    }
   ],
   "source": [
    "#peki yalnızca bir eğitim seviyesi girip o eğitim seviyesinin maaşını tahmin ettirmek istiyorsak\n",
    "#öncelikle lineer olarak hesaplayalım\n",
    "print(lr.predict([[11]]))#11. seviye için 34716 \n",
    "print(lr.predict([[6.6]]))#6.6. seviye için 16923 gibi bir değer döndürdü\n",
    "#aslında 10.seviye bile 50000 iken 11.seviye için 34716 döndürdü\n",
    "#6.6. seviye 7500-10000 arası olması gerekirken 16923 döndürdü"
   ]
  },
  {
   "cell_type": "code",
   "execution_count": 60,
   "metadata": {},
   "outputs": [
    {
     "name": "stdout",
     "output_type": "stream",
     "text": [
      "[[89041.66666665]]\n",
      "[[8146.9948718]]\n"
     ]
    }
   ],
   "source": [
    "#bir de polinomal olarak hesaplayalım\n",
    "#aradığımız değeri polinomal değere dönüştürmemiz gerek!!!\n",
    "print(lr2.predict(pr.fit_transform([[11]])))\n",
    "print(lr2.predict(pr.fit_transform([[6.6]])))\n",
    "\n",
    "#11. seviye için 89041 gibi bir değer döndürdü\n",
    "#6.6 için 8146 değerini döndürdü"
   ]
  }
 ],
 "metadata": {
  "kernelspec": {
   "display_name": "Python 3",
   "language": "python",
   "name": "python3"
  },
  "language_info": {
   "codemirror_mode": {
    "name": "ipython",
    "version": 3
   },
   "file_extension": ".py",
   "mimetype": "text/x-python",
   "name": "python",
   "nbconvert_exporter": "python",
   "pygments_lexer": "ipython3",
   "version": "3.8.3"
  }
 },
 "nbformat": 4,
 "nbformat_minor": 4
}
