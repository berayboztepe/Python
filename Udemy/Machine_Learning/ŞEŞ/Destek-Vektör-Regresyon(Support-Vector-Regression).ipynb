{
 "cells": [
  {
   "cell_type": "markdown",
   "metadata": {},
   "source": [
    "# Destek Vektör(Support Vector Regression)"
   ]
  },
  {
   "cell_type": "markdown",
   "metadata": {},
   "source": [
    "**Regresyon amacıyla kullanırsak:**\n",
    "\n",
    "**Maksimum noktayı içerisine alan marjin aralığını çizmemiz gerekiyor.**\n",
    "\n",
    "**Aynı marjin aralığında farklı eğimlerle, farklı noktalardan birden çok doğru çizilebilir. Bu doğrulardan hangisi maksimum marjin aralığını sağlar?**\n",
    "\n",
    "**Bu marjin aralığının dışında kalan noktalar ise bizim tahminde kullanamayacağımız noktalar, yani hata olarak kabul edeceğiz.**\n",
    "\n",
    "**Öyle bir doğru çizeceğiz ki, marjin değerini minimize edecek. Amacımız bu!**\n",
    "\n",
    "**Ortadan çizeceğimiz şey bir doğru olmak zorunda değildir! -Doğrusal olmayan SVR olabilir, -y=ax+b formülünde x yerine kernel function adı verilen, başka bir fonksiyon ekleyebiliriz. K(xi, x) ile gösterilir. Bu K bir polinom olabilir, gauss fonksiyonu olabilir... vb.**\n",
    "\n",
    "**Doğru, Polinom, RBF fonksiyonlar(başka fonksiyonlar da olabilir) ele alırız. Bize en doğru sonucu vereni kullanırız!**"
   ]
  },
  {
   "cell_type": "markdown",
   "metadata": {},
   "source": [
    "## Destek Vektör Makineleri(SVM ALGORİTMASI):\n",
    "\n",
    "**Sınıflandırma amacıyla kullanırsak:**\n",
    "\n",
    "**İki farklı sınıfı iki bölmeye ayırıyoruz. Biri üst tarafta diğeri alt tarafta kalacak şekilde ve aralarından bir doğru çiziyoruz.**\n",
    "\n",
    "**Destek vektör ise bu doğruyu nasıl çizmeliyiz? İki sınıf arasındaki marjin aralığı ne kadar olursa bizim için daha doğru bir sonuç ortaya çıkar? bunların cevabını verir.**\n",
    "\n",
    "**İki sınıfın birbirine en yakın noktalarından oluşabilecek en uzak doğruyu çizmemiz gerekiyor. Bu marjin aralığında bir nokta olmayacak!**"
   ]
  },
  {
   "cell_type": "markdown",
   "metadata": {},
   "source": [
    "**SVR outlier(aykırı) verilere karşı hassasiyeti var. Ondan bu regresyonu kullanırken dikkat etmemiz gereken noktalardan biri scaler'i kullanmak zorunda olduğumuz!**"
   ]
  },
  {
   "cell_type": "code",
   "execution_count": 12,
   "metadata": {},
   "outputs": [],
   "source": [
    "import pandas as pd\n",
    "import numpy as np\n",
    "import matplotlib.pyplot as plt\n",
    "from sklearn import preprocessing\n",
    "from sklearn.preprocessing import StandardScaler\n",
    "from sklearn.linear_model import LinearRegression\n",
    "from sklearn.svm import SVR"
   ]
  },
  {
   "cell_type": "code",
   "execution_count": 6,
   "metadata": {},
   "outputs": [
    {
     "data": {
      "text/html": [
       "<div>\n",
       "<style scoped>\n",
       "    .dataframe tbody tr th:only-of-type {\n",
       "        vertical-align: middle;\n",
       "    }\n",
       "\n",
       "    .dataframe tbody tr th {\n",
       "        vertical-align: top;\n",
       "    }\n",
       "\n",
       "    .dataframe thead th {\n",
       "        text-align: right;\n",
       "    }\n",
       "</style>\n",
       "<table border=\"1\" class=\"dataframe\">\n",
       "  <thead>\n",
       "    <tr style=\"text-align: right;\">\n",
       "      <th></th>\n",
       "      <th>unvan</th>\n",
       "      <th>Egitim Seviyesi</th>\n",
       "      <th>maas</th>\n",
       "    </tr>\n",
       "  </thead>\n",
       "  <tbody>\n",
       "    <tr>\n",
       "      <th>0</th>\n",
       "      <td>Cayci</td>\n",
       "      <td>1</td>\n",
       "      <td>2250</td>\n",
       "    </tr>\n",
       "    <tr>\n",
       "      <th>1</th>\n",
       "      <td>Sekreter</td>\n",
       "      <td>2</td>\n",
       "      <td>2500</td>\n",
       "    </tr>\n",
       "    <tr>\n",
       "      <th>2</th>\n",
       "      <td>Uzman Yardimcisi</td>\n",
       "      <td>3</td>\n",
       "      <td>3000</td>\n",
       "    </tr>\n",
       "    <tr>\n",
       "      <th>3</th>\n",
       "      <td>Uzman</td>\n",
       "      <td>4</td>\n",
       "      <td>4000</td>\n",
       "    </tr>\n",
       "    <tr>\n",
       "      <th>4</th>\n",
       "      <td>Proje Yoneticisi</td>\n",
       "      <td>5</td>\n",
       "      <td>5500</td>\n",
       "    </tr>\n",
       "    <tr>\n",
       "      <th>5</th>\n",
       "      <td>Sef</td>\n",
       "      <td>6</td>\n",
       "      <td>7500</td>\n",
       "    </tr>\n",
       "    <tr>\n",
       "      <th>6</th>\n",
       "      <td>Mudur</td>\n",
       "      <td>7</td>\n",
       "      <td>10000</td>\n",
       "    </tr>\n",
       "    <tr>\n",
       "      <th>7</th>\n",
       "      <td>Direktor</td>\n",
       "      <td>8</td>\n",
       "      <td>15000</td>\n",
       "    </tr>\n",
       "    <tr>\n",
       "      <th>8</th>\n",
       "      <td>C-level</td>\n",
       "      <td>9</td>\n",
       "      <td>25000</td>\n",
       "    </tr>\n",
       "    <tr>\n",
       "      <th>9</th>\n",
       "      <td>CEO</td>\n",
       "      <td>10</td>\n",
       "      <td>50000</td>\n",
       "    </tr>\n",
       "  </tbody>\n",
       "</table>\n",
       "</div>"
      ],
      "text/plain": [
       "              unvan  Egitim Seviyesi   maas\n",
       "0             Cayci                1   2250\n",
       "1          Sekreter                2   2500\n",
       "2  Uzman Yardimcisi                3   3000\n",
       "3             Uzman                4   4000\n",
       "4  Proje Yoneticisi                5   5500\n",
       "5               Sef                6   7500\n",
       "6             Mudur                7  10000\n",
       "7          Direktor                8  15000\n",
       "8           C-level                9  25000\n",
       "9               CEO               10  50000"
      ]
     },
     "execution_count": 6,
     "metadata": {},
     "output_type": "execute_result"
    }
   ],
   "source": [
    "data = pd.read_csv(\"maaslar.csv\")\n",
    "data"
   ]
  },
  {
   "cell_type": "code",
   "execution_count": 47,
   "metadata": {},
   "outputs": [],
   "source": [
    "x = data.iloc[:, 1:2]\n",
    "y = data.iloc[:, -1:]"
   ]
  },
  {
   "cell_type": "code",
   "execution_count": 54,
   "metadata": {},
   "outputs": [
    {
     "name": "stdout",
     "output_type": "stream",
     "text": [
      "[[-1.5666989 ]\n",
      " [-1.21854359]\n",
      " [-0.87038828]\n",
      " [-0.52223297]\n",
      " [-0.17407766]\n",
      " [ 0.17407766]\n",
      " [ 0.52223297]\n",
      " [ 0.87038828]\n",
      " [ 1.21854359]\n",
      " [ 1.5666989 ]]\n",
      "\n",
      "\n",
      " [-0.72004253 -0.70243757 -0.66722767 -0.59680786 -0.49117815 -0.35033854\n",
      " -0.17428902  0.17781001  0.88200808  2.64250325]\n"
     ]
    }
   ],
   "source": [
    "#Öncelikle zorunda olduğumuz ölçekleme işini yapıyoruz\n",
    "#scale edilirken orta değeri 0 olarak alır.\n",
    "#bizim şu anki değerimiz -1.5-2 arası(yaklaşık)\n",
    "sc = StandardScaler()\n",
    "X_olcek = sc.fit_transform(x)\n",
    "sc2 = StandardScaler()\n",
    "\n",
    "#Y_olcek = sc.fit_transform(y) //böyle de sonucu verir ancak böyle bir hata verir:\n",
    "    #DataConversionWarning: A column-vector y was passed when a 1d array was expected.\n",
    "\n",
    "#yapmamız gereken y'yi np.ravel() ile reshape etmek (1, 10) iken (10, 1) yapmak\n",
    "#np.ravel() ile yapmamızın sebebi: bir df oluşturduk. df reshape edilemez. Ondan önce dizi haline getirmemiz gerek\n",
    "\n",
    "Y_olcek = np.ravel(sc.fit_transform(y))\n",
    "\n",
    "print(X_olcek)\n",
    "print(\"\\n\\n\", Y_olcek)"
   ]
  },
  {
   "cell_type": "markdown",
   "metadata": {},
   "source": [
    "# RBF FORMÜLÜ\n",
    "\n",
    "\\begin{equation*}\n",
    "k(x_i, x_j) = \\exp\\left(- \\frac{d(x_i, x_j)^2}{2l^2} \\right)\n",
    "\\end{equation*}"
   ]
  },
  {
   "cell_type": "code",
   "execution_count": 55,
   "metadata": {},
   "outputs": [
    {
     "data": {
      "text/plain": [
       "[<matplotlib.lines.Line2D at 0x25662339280>]"
      ]
     },
     "execution_count": 55,
     "metadata": {},
     "output_type": "execute_result"
    },
    {
     "data": {
      "image/png": "[encoded data removed]",
      "text/plain": [
       "<Figure size 432x288 with 1 Axes>"
      ]
     },
     "metadata": {
      "needs_background": "light"
     },
     "output_type": "display_data"
    }
   ],
   "source": [
    "#şimdi ise svr oluşturuyoruz\n",
    "#kernel'a verdiğimiz değere göre bir svr oluşturacak(polinom, lineer, rbf... gibi)\n",
    "svr = SVR(kernel='rbf')\n",
    "svr.fit(X_olcek, Y_olcek)\n",
    "\n",
    "\n",
    "plt.scatter(X_olcek, Y_olcek, color='red')\n",
    "plt.plot(X_olcek, svr.predict(X_olcek))"
   ]
  },
  {
   "cell_type": "code",
   "execution_count": 56,
   "metadata": {},
   "outputs": [
    {
     "name": "stdout",
     "output_type": "stream",
     "text": [
      "[0.01150915]\n",
      "[0.01150915]\n"
     ]
    }
   ],
   "source": [
    "#şimdi ise spesifik değerlere bakalım\n",
    "print(svr.predict([[11]]))\n",
    "print(svr.predict([[6.6]]))"
   ]
  }
 ],
 "metadata": {
  "kernelspec": {
   "display_name": "Python 3",
   "language": "python",
   "name": "python3"
  },
  "language_info": {
   "codemirror_mode": {
    "name": "ipython",
    "version": 3
   },
   "file_extension": ".py",
   "mimetype": "text/x-python",
   "name": "python",
   "nbconvert_exporter": "python",
   "pygments_lexer": "ipython3",
   "version": "3.8.3"
  }
 },
 "nbformat": 4,
 "nbformat_minor": 4
}
