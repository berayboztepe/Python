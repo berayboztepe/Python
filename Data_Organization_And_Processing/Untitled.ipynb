{
 "cells": [
  {
   "cell_type": "code",
   "execution_count": 50,
   "metadata": {},
   "outputs": [],
   "source": [
    "file = open(\"deneme.txt\", \"w\", encoding='utf-8')\n",
    "file.write(\"Bilgisayar Mühendisliği\")\n",
    "file.close()\n"
   ]
  },
  {
   "cell_type": "code",
   "execution_count": 51,
   "metadata": {},
   "outputs": [],
   "source": [
    "file = open(\"deneme.txt\", \"a\", encoding='utf-8')#a = var olan dosyaya yeni şeyler ekleyeceksek\n",
    "file.write(\"\\nBilgisayar Mühendisliği(yeni)\")\n",
    "file.close()"
   ]
  },
  {
   "cell_type": "code",
   "execution_count": 10,
   "metadata": {},
   "outputs": [
    {
     "name": "stdout",
     "output_type": "stream",
     "text": [
      "Dosya bulunamadı.\n"
     ]
    }
   ],
   "source": [
    "try:#hataları rahat görmemizi sağlar\n",
    "    file = open(\"deneme2.txt\", \"r\", encoding='utf-8')\n",
    "except FileNotFoundError:\n",
    "    print(\"Dosya bulunamadı.\")\n",
    "    "
   ]
  },
  {
   "cell_type": "code",
   "execution_count": 16,
   "metadata": {},
   "outputs": [
    {
     "name": "stdout",
     "output_type": "stream",
     "text": [
      "Bilgisayar Mühendisliği\n",
      "Bilgisayar Mühendisliği(yeni)\n",
      "Bilgisayar Mühendisliği(yeni)"
     ]
    }
   ],
   "source": [
    "#for ile okuma\n",
    "file = open(\"deneme.txt\", \"r\", encoding='utf-8')\n",
    "\n",
    "for i in file:\n",
    "    print(i, end=\"\")\n",
    "    \n",
    "file.close()"
   ]
  },
  {
   "cell_type": "code",
   "execution_count": 13,
   "metadata": {},
   "outputs": [
    {
     "name": "stdout",
     "output_type": "stream",
     "text": [
      "Bilgisayar Mühendisliği\n",
      "Bilgisayar Mühendisliği(yeni)\n",
      "Bilgisayar Mühendisliği(yeni)\n"
     ]
    }
   ],
   "source": [
    "#read ile okuma\n",
    "file = open(\"deneme.txt\", \"r\", encoding='utf-8')\n",
    "okunan = file.read()\n",
    "\n",
    "print(okunan)\n",
    "file.close()"
   ]
  },
  {
   "cell_type": "code",
   "execution_count": 17,
   "metadata": {},
   "outputs": [
    {
     "name": "stdout",
     "output_type": "stream",
     "text": [
      "Bilgisayar Mühendisliği\n",
      "\n",
      "Bilgisayar Mühendisliği(yeni)\n",
      "\n",
      "Bilgisayar Mühendisliği(yeni)\n"
     ]
    }
   ],
   "source": [
    "#readline ile okuma(3 satır olduğunu biliyorum)\n",
    "file = open(\"deneme.txt\", \"r\", encoding='utf-8')\n",
    "print(file.readline())\n",
    "print(file.readline())\n",
    "print(file.readline())\n",
    "file.close()"
   ]
  },
  {
   "cell_type": "code",
   "execution_count": 19,
   "metadata": {},
   "outputs": [
    {
     "name": "stdout",
     "output_type": "stream",
     "text": [
      "Bilgisayar Mühendisliği\n",
      "\n",
      "Bilgisayar Mühendisliği(yeni)\n",
      "\n",
      "Bilgisayar Mühendisliği(yeni)\n"
     ]
    }
   ],
   "source": [
    "#readlines ile okuma\n",
    "file = open(\"deneme.txt\", \"r\", encoding='utf-8')\n",
    "for i in file.readlines():\n",
    "    print(i)\n",
    "#list = file.readlines()\n",
    "#print(list) liste haline getirip yazdırma\n",
    "file.close()"
   ]
  },
  {
   "cell_type": "code",
   "execution_count": 52,
   "metadata": {},
   "outputs": [],
   "source": [
    "#file.close() yazmak istemiyorsak:\n",
    "with open(\"deneme.txt\", \"r+\", encoding='utf-8') as file:#r+ ile hem okuma hem yazma yapabiliriz = w+\n",
    "    file.seek(100)#46. karaktere konumlanıyor.\n",
    "    file.write(\"Veri Yönetimi ve Dosya Yapıları\")\n",
    "\n"
   ]
  },
  {
   "cell_type": "code",
   "execution_count": 53,
   "metadata": {},
   "outputs": [],
   "source": [
    "#dosyanın başlangıcına bir kayıt yazmak istiyoruz\n",
    "with open(\"deneme.txt\", \"r+\", encoding='utf-8') as file:\n",
    "    icerik = file.read()\n",
    "    \n",
    "    icerik = 'Yeni kayıt başlangıcı\\n' + icerik\n",
    "    file.seek(0)\n",
    "    file.write(icerik)"
   ]
  },
  {
   "cell_type": "code",
   "execution_count": 54,
   "metadata": {},
   "outputs": [],
   "source": [
    "#aynı şeyi readlines() ile yapıyoruz. Mesela 3. satıra bir şey ekleyeceğiz, sonra tüm dosyayı en baştn yazdıracağız\n",
    "with open(\"deneme.txt\", \"r+\", encoding='utf-8') as file:\n",
    "    liste = file.readlines()\n",
    "    liste.insert(3, '\\nİşletim Sistemleri\\n')\n",
    "    \n",
    "    file.seek(0)\n",
    "    for satır in liste:\n",
    "        file.write(satır)\n",
    "    "
   ]
  },
  {
   "cell_type": "code",
   "execution_count": 55,
   "metadata": {},
   "outputs": [
    {
     "name": "stdout",
     "output_type": "stream",
     "text": [
      "Konum: 0\n",
      "Yeni Konum: 208\n"
     ]
    }
   ],
   "source": [
    "#dosya içerisindeki konumumuzu öğrenmek istiyoruz. mesela dosyanın sonundan itibaren bir şeyler yazacağız(seek ile)\n",
    "with open(\"deneme.txt\", \"r+\", encoding='utf-8') as file:\n",
    "    liste = file.readlines()\n",
    "    liste.insert(4, '\\nProgramlama Dilleri\\n')\n",
    "    \n",
    "    file.seek(0)\n",
    "    print(\"Konum:\", file.tell())\n",
    "    for satır in liste:\n",
    "        file.write(satır)\n",
    "    print(\"Yeni Konum:\", file.tell())"
   ]
  },
  {
   "cell_type": "code",
   "execution_count": null,
   "metadata": {},
   "outputs": [],
   "source": []
  }
 ],
 "metadata": {
  "kernelspec": {
   "display_name": "Python 3",
   "language": "python",
   "name": "python3"
  },
  "language_info": {
   "codemirror_mode": {
    "name": "ipython",
    "version": 3
   },
   "file_extension": ".py",
   "mimetype": "text/x-python",
   "name": "python",
   "nbconvert_exporter": "python",
   "pygments_lexer": "ipython3",
   "version": "3.8.3"
  }
 },
 "nbformat": 4,
 "nbformat_minor": 4
}
